{
 "cells": [
  {
   "cell_type": "code",
   "execution_count": 3,
   "metadata": {},
   "outputs": [
    {
     "name": "stdout",
     "output_type": "stream",
     "text": [
      "Index(['I0', 'PA500', 'HFS', 'DA', 'Area', 'A/DA', 'Max IP', 'DR', 'P'], dtype='object')\n"
     ]
    }
   ],
   "source": [
    "import DI2\n",
    "import pandas as pd\n",
    "data = pd.read_excel(\"BreastTissue.xls\", sheet_name=\"Data\", dtype=str)\n",
    "data = data.drop(columns=[\"Case #\", \"Class\"])\n",
    "\n",
    "print(data.columns)"
   ]
  },
  {
   "cell_type": "code",
   "execution_count": 2,
   "metadata": {},
   "outputs": [
    {
     "name": "stdout",
     "output_type": "stream",
     "text": [
      "Attribute: I0 / Best distribution: alpha / Chi-squared statistic: 9.926267937856876\n",
      "Attribute: PA500 / Best distribution: exponnorm / Chi-squared statistic: 4.173230457140642\n",
      "Attribute: HFS / Best distribution: foldcauchy / Chi-squared statistic: 1.5682992641430908\n",
      "Attribute: DA / Best distribution: chi2 / Chi-squared statistic: 1.0134023340837701\n",
      "Attribute: Area / Best distribution: frechet_r / Chi-squared statistic: 0.2490374650850757\n",
      "Attribute: A/DA / Best distribution: gengamma / Chi-squared statistic: 1.6680481709596218\n",
      "Attribute: Max IP / Best distribution: alpha / Chi-squared statistic: 1.090129080904446\n",
      "Attribute: DR / Best distribution: lomax / Chi-squared statistic: 1.3019874803308924\n",
      "Attribute: P / Best distribution: genextreme / Chi-squared statistic: 5.134398311572101\n"
     ]
    }
   ],
   "source": [
    "for column in data.columns:\n",
    "    results = DI2.Discretizer.distribution_discretizer(column=data[column], number_of_bins=5, statistical_test=\"chi2\", kolmogorov_opt=True)\n",
    "    print(\"Attribute: \"+column+ \" / Best distribution: \"+str(results[1])+\" / Chi-squared statistic: \"+str(results[2]))"
   ]
  },
  {
   "cell_type": "code",
   "execution_count": null,
   "metadata": {},
   "outputs": [],
   "source": []
  }
 ],
 "metadata": {
  "kernelspec": {
   "display_name": "Python 3",
   "language": "python",
   "name": "python3"
  },
  "language_info": {
   "codemirror_mode": {
    "name": "ipython",
    "version": 3
   },
   "file_extension": ".py",
   "mimetype": "text/x-python",
   "name": "python",
   "nbconvert_exporter": "python",
   "pygments_lexer": "ipython3",
   "version": "3.7.4"
  }
 },
 "nbformat": 4,
 "nbformat_minor": 4
}
